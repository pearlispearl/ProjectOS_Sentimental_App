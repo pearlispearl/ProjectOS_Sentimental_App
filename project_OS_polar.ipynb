{
  "nbformat": 4,
  "nbformat_minor": 0,
  "metadata": {
    "colab": {
      "provenance": []
    },
    "kernelspec": {
      "name": "python3",
      "display_name": "Python 3"
    },
    "language_info": {
      "name": "python"
    }
  },
  "cells": [
    {
      "cell_type": "code",
      "execution_count": 2,
      "metadata": {
        "colab": {
          "base_uri": "https://localhost:8080/",
          "height": 1000
        },
        "id": "QSk282UOITeU",
        "outputId": "51ca198e-c644-476b-a4c1-80832db5cc3a"
      },
      "outputs": [
        {
          "output_type": "stream",
          "name": "stderr",
          "text": [
            "[nltk_data] Downloading package stopwords to /root/nltk_data...\n",
            "[nltk_data]   Package stopwords is already up-to-date!\n",
            "[nltk_data] Downloading package wordnet to /root/nltk_data...\n",
            "[nltk_data]   Package wordnet is already up-to-date!\n"
          ]
        },
        {
          "output_type": "stream",
          "name": "stdout",
          "text": [
            "First 5 rows of the dataset:\n",
            "shape: (5, 15)\n",
            "┌──────────────┬────────────┬──────────────────────────┬───────────┬───┬──────┬───────┬─────┬──────┐\n",
            "│ Unnamed: 0.1 ┆ Unnamed: 0 ┆ Text                     ┆ Sentiment ┆ … ┆ Year ┆ Month ┆ Day ┆ Hour │\n",
            "│ ---          ┆ ---        ┆ ---                      ┆ ---       ┆   ┆ ---  ┆ ---   ┆ --- ┆ ---  │\n",
            "│ i64          ┆ i64        ┆ str                      ┆ str       ┆   ┆ i64  ┆ i64   ┆ i64 ┆ i64  │\n",
            "╞══════════════╪════════════╪══════════════════════════╪═══════════╪═══╪══════╪═══════╪═════╪══════╡\n",
            "│ 0            ┆ 0          ┆ Enjoying a beautiful day ┆ Positive  ┆ … ┆ 2023 ┆ 1     ┆ 15  ┆ 12   │\n",
            "│              ┆            ┆ at t…                    ┆           ┆   ┆      ┆       ┆     ┆      │\n",
            "│ 1            ┆ 1          ┆ Traffic was terrible     ┆ Negative  ┆ … ┆ 2023 ┆ 1     ┆ 15  ┆ 8    │\n",
            "│              ┆            ┆ this mor…                ┆           ┆   ┆      ┆       ┆     ┆      │\n",
            "│ 2            ┆ 2          ┆ Just finished an amazing ┆ Positive  ┆ … ┆ 2023 ┆ 1     ┆ 15  ┆ 15   │\n",
            "│              ┆            ┆ work…                    ┆           ┆   ┆      ┆       ┆     ┆      │\n",
            "│ 3            ┆ 3          ┆ Excited about the        ┆ Positive  ┆ … ┆ 2023 ┆ 1     ┆ 15  ┆ 18   │\n",
            "│              ┆            ┆ upcoming we…             ┆           ┆   ┆      ┆       ┆     ┆      │\n",
            "│ 4            ┆ 4          ┆ Trying out a new recipe  ┆ Neutral   ┆ … ┆ 2023 ┆ 1     ┆ 15  ┆ 19   │\n",
            "│              ┆            ┆ for d…                   ┆           ┆   ┆      ┆       ┆     ┆      │\n",
            "└──────────────┴────────────┴──────────────────────────┴───────────┴───┴──────┴───────┴─────┴──────┘\n",
            "\n",
            "Dataset shape:\n",
            "(732, 15)\n",
            "\n",
            "Data types:\n",
            "[Int64, Int64, String, String, String, String, String, String, Float64, Float64, String, Int64, Int64, Int64, Int64]\n",
            "\n",
            "Sentiment label distribution:\n",
            "shape: (3, 2)\n",
            "┌───────────┬───────┐\n",
            "│ Sentiment ┆ count │\n",
            "│ ---       ┆ ---   │\n",
            "│ str       ┆ u32   │\n",
            "╞═══════════╪═══════╡\n",
            "│ Neutral   ┆ 341   │\n",
            "│ Negative  ┆ 105   │\n",
            "│ Positive  ┆ 286   │\n",
            "└───────────┴───────┘\n"
          ]
        },
        {
          "output_type": "display_data",
          "data": {
            "text/plain": [
              "<Figure size 640x480 with 1 Axes>"
            ],
            "image/png": "[encoded data removed]"
          },
          "metadata": {}
        },
        {
          "output_type": "stream",
          "name": "stdout",
          "text": [
            "\n",
            "Preprocessed text (first 5 rows):\n",
            "shape: (5, 1)\n",
            "┌─────────────────────────────────┐\n",
            "│ Text                            │\n",
            "│ ---                             │\n",
            "│ str                             │\n",
            "╞═════════════════════════════════╡\n",
            "│ enjoying beautiful day park     │\n",
            "│ traffic terrible morning        │\n",
            "│ finished amazing workout        │\n",
            "│ excited upcoming weekend getaw… │\n",
            "│ trying new recipe dinner tonig… │\n",
            "└─────────────────────────────────┘\n",
            "\n",
            "Execution time: 0.82 seconds\n"
          ]
        }
      ],
      "source": [
        "import time\n",
        "\n",
        "start = time.time()\n",
        "\n",
        "import polars as pl\n",
        "import matplotlib.pyplot as plt\n",
        "import seaborn as sns\n",
        "import nltk\n",
        "from nltk.corpus import stopwords\n",
        "from nltk.stem import WordNetLemmatizer\n",
        "import re\n",
        "\n",
        "from nltk.corpus import wordnet\n",
        "\n",
        "nltk.download('stopwords')\n",
        "nltk.download('wordnet')\n",
        "\n",
        "wordnet.ensure_loaded()\n",
        "\n",
        "try:\n",
        "    df = pl.read_csv('datasets/sentimentdataset.csv')\n",
        "except FileNotFoundError:\n",
        "    print(\"Error: 'sentimentdataset.csv' not found.\")\n",
        "    exit()\n",
        "\n",
        "\n",
        "print(\"First 5 rows of the dataset:\")\n",
        "print(df.head())\n",
        "\n",
        "print(\"\\nDataset shape:\")\n",
        "print((df.height, len(df.columns)))\n",
        "print(\"\\nData types:\")\n",
        "print(df.dtypes)\n",
        "\n",
        "print(\"\\nSentiment label distribution:\")\n",
        "print(df.select(pl.col(\"Sentiment\")).to_series().value_counts())\n",
        "\n",
        "sns.countplot(x=df.select(\"Sentiment\").to_series())\n",
        "plt.title('Sentiment Distribution')\n",
        "plt.show()\n",
        "\n",
        "stopwords_set = set(stopwords.words('english'))\n",
        "lemmatizer = WordNetLemmatizer()\n",
        "\n",
        "def preprocess_text(text):\n",
        "    text = re.sub('<[^>]*>', '', text)\n",
        "    text = re.sub('[^a-zA-Z]', ' ', text)\n",
        "    text = text.lower()\n",
        "    tokens = text.split()\n",
        "    tokens = [word for word in tokens if word not in stopwords_set]\n",
        "    tokens = [lemmatizer.lemmatize(word) for word in tokens]\n",
        "    return ' '.join(tokens)\n",
        "\n",
        "df = df.with_columns([\n",
        "    pl.col(\"Text\").map_elements(preprocess_text, return_dtype=pl.Utf8).alias(\"Text\")\n",
        "])\n",
        "\n",
        "print(\"\\nPreprocessed text (first 5 rows):\")\n",
        "print(df.select(\"Text\").head())\n",
        "\n",
        "end = time.time()\n",
        "print(f\"\\nExecution time: {end - start:.2f} seconds\")\n"
      ]
    }
  ]
}